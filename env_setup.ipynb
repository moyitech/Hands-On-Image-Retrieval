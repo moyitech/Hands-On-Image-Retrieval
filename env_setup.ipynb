{
 "cells": [
  {
   "cell_type": "code",
   "execution_count": null,
   "id": "initial_id",
   "metadata": {},
   "outputs": [],
   "source": [
    "!conda install --yes -c pytorch pytorch=1.7.1 torchvision cudatoolkit=11.0"
   ]
  },
  {
   "cell_type": "code",
   "execution_count": null,
   "id": "6cc74e5350a5a046",
   "metadata": {
    "collapsed": false,
    "jupyter": {
     "outputs_hidden": false
    }
   },
   "outputs": [],
   "source": [
    "!pip install ftfy regex tqdm"
   ]
  },
  {
   "cell_type": "code",
   "execution_count": null,
   "id": "50456a5157ab5427",
   "metadata": {
    "ExecuteTime": {
     "end_time": "2024-03-15T01:10:08.756440Z",
     "start_time": "2024-03-15T01:10:00.719807Z"
    },
    "collapsed": false,
    "jupyter": {
     "outputs_hidden": false
    }
   },
   "outputs": [],
   "source": [
    "!pip install pymilvus"
   ]
  },
  {
   "cell_type": "code",
   "execution_count": null,
   "id": "45fdf645594db454",
   "metadata": {
    "ExecuteTime": {
     "end_time": "2024-03-15T01:51:44.119553Z",
     "start_time": "2024-03-15T01:51:18.771591Z"
    },
    "collapsed": false,
    "jupyter": {
     "outputs_hidden": false
    }
   },
   "outputs": [],
   "source": [
    "!pip install gradio"
   ]
  },
  {
   "cell_type": "code",
   "execution_count": null,
   "id": "ef7b7a62b1262954",
   "metadata": {
    "collapsed": false,
    "jupyter": {
     "outputs_hidden": false
    }
   },
   "outputs": [],
   "source": [
    "!pip install git+https://github.com/openai/CLIP.git"
   ]
  },
  {
   "cell_type": "code",
   "execution_count": null,
   "id": "54b3beea700ea5e2",
   "metadata": {
    "collapsed": false,
    "jupyter": {
     "outputs_hidden": false
    }
   },
   "outputs": [],
   "source": [
    "!wget https://images.cocodataset.org/zips/val2017.zip"
   ]
  },
  {
   "cell_type": "code",
   "execution_count": null,
   "id": "87a94048326a5b8e",
   "metadata": {
    "collapsed": false,
    "jupyter": {
     "outputs_hidden": false
    }
   },
   "outputs": [],
   "source": [
    "!unzip val2017.zip"
   ]
  }
 ],
 "metadata": {
  "kernelspec": {
   "display_name": "Python 3 (ipykernel)",
   "language": "python",
   "name": "python3"
  },
  "language_info": {
   "codemirror_mode": {
    "name": "ipython",
    "version": 3
   },
   "file_extension": ".py",
   "mimetype": "text/x-python",
   "name": "python",
   "nbconvert_exporter": "python",
   "pygments_lexer": "ipython3",
   "version": "3.10.13"
  }
 },
 "nbformat": 4,
 "nbformat_minor": 5
}
