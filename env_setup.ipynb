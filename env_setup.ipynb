{
 "cells": [
  {
   "cell_type": "code",
   "execution_count": null,
   "id": "initial_id",
   "metadata": {
    "collapsed": true,
    "jupyter": {
     "outputs_hidden": true
    }
   },
   "outputs": [],
   "source": [
    "!conda install --yes -c pytorch pytorch=1.7.1 torchvision cudatoolkit=11.0"
   ]
  },
  {
   "cell_type": "code",
   "execution_count": null,
   "id": "6cc74e5350a5a046",
   "metadata": {
    "collapsed": false,
    "jupyter": {
     "outputs_hidden": false
    }
   },
   "outputs": [],
   "source": [
    "!pip install ftfy regex tqdm"
   ]
  },
  {
   "cell_type": "code",
   "execution_count": 1,
   "id": "50456a5157ab5427",
   "metadata": {
    "ExecuteTime": {
     "end_time": "2024-03-15T01:10:08.756440Z",
     "start_time": "2024-03-15T01:10:00.719807Z"
    },
    "collapsed": false,
    "jupyter": {
     "outputs_hidden": false
    }
   },
   "outputs": [
    {
     "name": "stdout",
     "output_type": "stream",
     "text": [
      "Looking in indexes: https://pypi.tuna.tsinghua.edu.cn/simple\n",
      "Collecting pymilvus\n",
      "  Downloading https://pypi.tuna.tsinghua.edu.cn/packages/e9/9a/57532a34b91ed45c52d3551be9a98e4dc041b3758e006992dab004e6925a/pymilvus-2.3.7-py3-none-any.whl (179 kB)\n",
      "     ---------------------------------------- 0.0/179.8 kB ? eta -:--:--\n",
      "     -------------------------------------- 179.8/179.8 kB 3.6 MB/s eta 0:00:00\n",
      "Requirement already satisfied: setuptools>=67 in c:\\users\\14549\\anaconda3\\envs\\basic\\lib\\site-packages (from pymilvus) (68.2.2)\n",
      "Collecting grpcio<=1.60.0,>=1.49.1 (from pymilvus)\n",
      "  Using cached https://pypi.tuna.tsinghua.edu.cn/packages/9e/7f/adf4bc4c2d54e496eca16a856ddfdace57e7ace01ac9ffcd2abf888c47e6/grpcio-1.60.0-cp310-cp310-win_amd64.whl (3.7 MB)\n",
      "Requirement already satisfied: protobuf>=3.20.0 in c:\\users\\14549\\anaconda3\\envs\\basic\\lib\\site-packages (from pymilvus) (4.25.3)\n",
      "Collecting environs<=9.5.0 (from pymilvus)\n",
      "  Using cached https://pypi.tuna.tsinghua.edu.cn/packages/ca/5e/f0f217dc393372681bfe05c50f06a212e78d0a3fee907a74ab451ec1dcdb/environs-9.5.0-py2.py3-none-any.whl (12 kB)\n",
      "Collecting ujson>=2.0.0 (from pymilvus)\n",
      "  Using cached https://pypi.tuna.tsinghua.edu.cn/packages/b7/fe/34f18478d578831655b8d6428abb1a586bbc1244caafdd30b2776a4aff15/ujson-5.9.0-cp310-cp310-win_amd64.whl (41 kB)\n",
      "Requirement already satisfied: pandas>=1.2.4 in c:\\users\\14549\\anaconda3\\envs\\basic\\lib\\site-packages (from pymilvus) (2.2.0)\n",
      "Requirement already satisfied: requests in c:\\users\\14549\\anaconda3\\envs\\basic\\lib\\site-packages (from pymilvus) (2.31.0)\n",
      "Collecting minio>=7.0.0 (from pymilvus)\n",
      "  Using cached https://pypi.tuna.tsinghua.edu.cn/packages/45/a4/6f278051ad2bc03f3a0fdb4e182c9529009b0357631c2bb7c6ae70b4b0f6/minio-7.2.5-py3-none-any.whl (93 kB)\n",
      "Requirement already satisfied: pyarrow>=12.0.0 in c:\\users\\14549\\anaconda3\\envs\\basic\\lib\\site-packages (from pymilvus) (15.0.0)\n",
      "Collecting azure-storage-blob (from pymilvus)\n",
      "  Downloading https://pypi.tuna.tsinghua.edu.cn/packages/39/96/c0964ea207da669fb6c51a370aef647269c4a21608112a1057440dda8aea/azure_storage_blob-12.19.1-py3-none-any.whl (394 kB)\n",
      "     ---------------------------------------- 0.0/394.5 kB ? eta -:--:--\n",
      "     ------------------------------------- 394.5/394.5 kB 24.0 MB/s eta 0:00:00\n",
      "Requirement already satisfied: marshmallow>=3.0.0 in c:\\users\\14549\\anaconda3\\envs\\basic\\lib\\site-packages (from environs<=9.5.0->pymilvus) (3.20.2)\n",
      "Requirement already satisfied: python-dotenv in c:\\users\\14549\\anaconda3\\envs\\basic\\lib\\site-packages (from environs<=9.5.0->pymilvus) (1.0.1)\n",
      "Requirement already satisfied: certifi in c:\\users\\14549\\anaconda3\\envs\\basic\\lib\\site-packages (from minio>=7.0.0->pymilvus) (2024.2.2)\n",
      "Requirement already satisfied: urllib3 in c:\\users\\14549\\anaconda3\\envs\\basic\\lib\\site-packages (from minio>=7.0.0->pymilvus) (2.2.0)\n",
      "Requirement already satisfied: argon2-cffi in c:\\users\\14549\\anaconda3\\envs\\basic\\lib\\site-packages (from minio>=7.0.0->pymilvus) (23.1.0)\n",
      "Collecting pycryptodome (from minio>=7.0.0->pymilvus)\n",
      "  Using cached https://pypi.tuna.tsinghua.edu.cn/packages/1f/90/d131c0eb643290230dfa4108b7c2d135122d88b714ad241d77beb4782a76/pycryptodome-3.20.0-cp35-abi3-win_amd64.whl (1.8 MB)\n",
      "Requirement already satisfied: typing-extensions in c:\\users\\14549\\anaconda3\\envs\\basic\\lib\\site-packages (from minio>=7.0.0->pymilvus) (4.9.0)\n",
      "Requirement already satisfied: numpy<2,>=1.22.4 in c:\\users\\14549\\anaconda3\\envs\\basic\\lib\\site-packages (from pandas>=1.2.4->pymilvus) (1.26.4)\n",
      "Requirement already satisfied: python-dateutil>=2.8.2 in c:\\users\\14549\\anaconda3\\envs\\basic\\lib\\site-packages (from pandas>=1.2.4->pymilvus) (2.8.2)\n",
      "Requirement already satisfied: pytz>=2020.1 in c:\\users\\14549\\anaconda3\\envs\\basic\\lib\\site-packages (from pandas>=1.2.4->pymilvus) (2024.1)\n",
      "Requirement already satisfied: tzdata>=2022.7 in c:\\users\\14549\\anaconda3\\envs\\basic\\lib\\site-packages (from pandas>=1.2.4->pymilvus) (2023.4)\n",
      "Collecting azure-core<2.0.0,>=1.28.0 (from azure-storage-blob->pymilvus)\n",
      "  Downloading https://pypi.tuna.tsinghua.edu.cn/packages/d7/70/180df3b43ebc7a1ec957d9e5c2c76e6c54398ec61a67dff88d3e0131be80/azure_core-1.30.1-py3-none-any.whl (193 kB)\n",
      "     ---------------------------------------- 0.0/193.4 kB ? eta -:--:--\n",
      "     ------------------------------------- 193.4/193.4 kB 11.4 MB/s eta 0:00:00\n",
      "Collecting cryptography>=2.1.4 (from azure-storage-blob->pymilvus)\n",
      "  Downloading https://pypi.tuna.tsinghua.edu.cn/packages/e3/14/13acd84f2a8303d9410ba2e24534a9d90c2817583636a91c4f314224768d/cryptography-42.0.5-cp39-abi3-win_amd64.whl (2.9 MB)\n",
      "     ---------------------------------------- 0.0/2.9 MB ? eta -:--:--\n",
      "     --------- ------------------------------ 0.7/2.9 MB 15.0 MB/s eta 0:00:01\n",
      "     -------------------- ------------------- 1.5/2.9 MB 15.7 MB/s eta 0:00:01\n",
      "     -------------------------------- ------- 2.3/2.9 MB 16.5 MB/s eta 0:00:01\n",
      "     ---------------------------------------- 2.9/2.9 MB 15.3 MB/s eta 0:00:00\n",
      "Collecting isodate>=0.6.1 (from azure-storage-blob->pymilvus)\n",
      "  Using cached https://pypi.tuna.tsinghua.edu.cn/packages/b6/85/7882d311924cbcfc70b1890780763e36ff0b140c7e51c110fc59a532f087/isodate-0.6.1-py2.py3-none-any.whl (41 kB)\n",
      "Requirement already satisfied: charset-normalizer<4,>=2 in c:\\users\\14549\\anaconda3\\envs\\basic\\lib\\site-packages (from requests->pymilvus) (3.3.2)\n",
      "Requirement already satisfied: idna<4,>=2.5 in c:\\users\\14549\\anaconda3\\envs\\basic\\lib\\site-packages (from requests->pymilvus) (3.6)\n",
      "Requirement already satisfied: six>=1.11.0 in c:\\users\\14549\\anaconda3\\envs\\basic\\lib\\site-packages (from azure-core<2.0.0,>=1.28.0->azure-storage-blob->pymilvus) (1.16.0)\n",
      "Requirement already satisfied: cffi>=1.12 in c:\\users\\14549\\anaconda3\\envs\\basic\\lib\\site-packages (from cryptography>=2.1.4->azure-storage-blob->pymilvus) (1.16.0)\n",
      "Requirement already satisfied: packaging>=17.0 in c:\\users\\14549\\anaconda3\\envs\\basic\\lib\\site-packages (from marshmallow>=3.0.0->environs<=9.5.0->pymilvus) (23.2)\n",
      "Requirement already satisfied: argon2-cffi-bindings in c:\\users\\14549\\anaconda3\\envs\\basic\\lib\\site-packages (from argon2-cffi->minio>=7.0.0->pymilvus) (21.2.0)\n",
      "Requirement already satisfied: pycparser in c:\\users\\14549\\anaconda3\\envs\\basic\\lib\\site-packages (from cffi>=1.12->cryptography>=2.1.4->azure-storage-blob->pymilvus) (2.21)\n",
      "Installing collected packages: ujson, pycryptodome, isodate, grpcio, environs, cryptography, azure-core, azure-storage-blob, minio, pymilvus\n",
      "Successfully installed azure-core-1.30.1 azure-storage-blob-12.19.1 cryptography-42.0.5 environs-9.5.0 grpcio-1.60.0 isodate-0.6.1 minio-7.2.5 pycryptodome-3.20.0 pymilvus-2.3.7 ujson-5.9.0\n"
     ]
    }
   ],
   "source": [
    "!pip install pymilvus"
   ]
  },
  {
   "cell_type": "code",
   "execution_count": 2,
   "id": "45fdf645594db454",
   "metadata": {
    "ExecuteTime": {
     "end_time": "2024-03-15T01:51:44.119553Z",
     "start_time": "2024-03-15T01:51:18.771591Z"
    },
    "collapsed": false,
    "jupyter": {
     "outputs_hidden": false
    }
   },
   "outputs": [
    {
     "name": "stdout",
     "output_type": "stream",
     "text": [
      "Looking in indexes: https://pypi.tuna.tsinghua.edu.cn/simple\n",
      "Collecting gradio\n",
      "  Downloading https://pypi.tuna.tsinghua.edu.cn/packages/68/6c/28d4a841651b32b2e8b4bdc55cfe96785e5cce63ce2c07d039df2c0abfd3/gradio-4.21.0-py3-none-any.whl (17.0 MB)\n",
      "     ---------------------------------------- 0.0/17.0 MB ? eta -:--:--\n",
      "     ---------------------------------------- 0.1/17.0 MB 2.0 MB/s eta 0:00:09\n",
      "     ---------------------------------------- 0.2/17.0 MB 2.5 MB/s eta 0:00:07\n",
      "     - -------------------------------------- 0.4/17.0 MB 3.4 MB/s eta 0:00:05\n",
      "     - -------------------------------------- 0.7/17.0 MB 4.0 MB/s eta 0:00:05\n",
      "     -- ------------------------------------- 1.0/17.0 MB 4.5 MB/s eta 0:00:04\n",
      "     --- ------------------------------------ 1.4/17.0 MB 5.4 MB/s eta 0:00:03\n",
      "     ---- ----------------------------------- 1.8/17.0 MB 6.2 MB/s eta 0:00:03\n",
      "     ----- ---------------------------------- 2.3/17.0 MB 6.8 MB/s eta 0:00:03\n",
      "     ------ --------------------------------- 2.8/17.0 MB 6.9 MB/s eta 0:00:03\n",
      "     ------- -------------------------------- 3.3/17.0 MB 7.5 MB/s eta 0:00:02\n",
      "     -------- ------------------------------- 3.8/17.0 MB 7.5 MB/s eta 0:00:02\n",
      "     --------- ------------------------------ 3.9/17.0 MB 7.3 MB/s eta 0:00:02\n",
      "     ---------- ----------------------------- 4.3/17.0 MB 7.5 MB/s eta 0:00:02\n",
      "     ----------- ---------------------------- 4.9/17.0 MB 7.8 MB/s eta 0:00:02\n",
      "     ------------ --------------------------- 5.3/17.0 MB 7.8 MB/s eta 0:00:02\n",
      "     ------------- -------------------------- 5.7/17.0 MB 7.9 MB/s eta 0:00:02\n",
      "     -------------- ------------------------- 6.3/17.0 MB 8.2 MB/s eta 0:00:02\n",
      "     --------------- ------------------------ 6.8/17.0 MB 8.4 MB/s eta 0:00:02\n",
      "     ----------------- ---------------------- 7.3/17.0 MB 8.5 MB/s eta 0:00:02\n",
      "     ------------------ --------------------- 7.7/17.0 MB 8.5 MB/s eta 0:00:02\n",
      "     ------------------- -------------------- 8.2/17.0 MB 8.6 MB/s eta 0:00:02\n",
      "     -------------------- ------------------- 8.7/17.0 MB 8.7 MB/s eta 0:00:01\n",
      "     --------------------- ------------------ 9.2/17.0 MB 8.8 MB/s eta 0:00:01\n",
      "     ---------------------- ----------------- 9.6/17.0 MB 8.8 MB/s eta 0:00:01\n",
      "     ----------------------- ---------------- 10.1/17.0 MB 8.9 MB/s eta 0:00:01\n",
      "     ------------------------ --------------- 10.6/17.0 MB 9.8 MB/s eta 0:00:01\n",
      "     ------------------------ --------------- 10.6/17.0 MB 9.5 MB/s eta 0:00:01\n",
      "     ------------------------- -------------- 10.7/17.0 MB 9.1 MB/s eta 0:00:01\n",
      "     --------------------------- ------------ 11.9/17.0 MB 9.8 MB/s eta 0:00:01\n",
      "     ----------------------------- ---------- 12.4/17.0 MB 9.8 MB/s eta 0:00:01\n",
      "     ------------------------------ --------- 12.9/17.0 MB 9.9 MB/s eta 0:00:01\n",
      "     ------------------------------ --------- 12.9/17.0 MB 9.9 MB/s eta 0:00:01\n",
      "     ------------------------------- -------- 13.4/17.0 MB 9.4 MB/s eta 0:00:01\n",
      "     -------------------------------- ------- 13.6/17.0 MB 9.5 MB/s eta 0:00:01\n",
      "     --------------------------------- ------ 14.3/17.0 MB 9.6 MB/s eta 0:00:01\n",
      "     ---------------------------------- ----- 14.7/17.0 MB 9.9 MB/s eta 0:00:01\n",
      "     ------------------------------------ --- 15.4/17.0 MB 9.9 MB/s eta 0:00:01\n",
      "     ------------------------------------ -- 15.9/17.0 MB 10.1 MB/s eta 0:00:01\n",
      "     ------------------------------------- - 16.5/17.0 MB 10.1 MB/s eta 0:00:01\n",
      "     --------------------------------------  17.0/17.0 MB 10.1 MB/s eta 0:00:01\n",
      "     ---------------------------------------  17.0/17.0 MB 9.9 MB/s eta 0:00:01\n",
      "     ---------------------------------------- 17.0/17.0 MB 9.2 MB/s eta 0:00:00\n",
      "Collecting aiofiles<24.0,>=22.0 (from gradio)\n",
      "  Using cached https://pypi.tuna.tsinghua.edu.cn/packages/c5/19/5af6804c4cc0fed83f47bff6e413a98a36618e7d40185cd36e69737f3b0e/aiofiles-23.2.1-py3-none-any.whl (15 kB)\n",
      "Collecting altair<6.0,>=4.2.0 (from gradio)\n",
      "  Using cached https://pypi.tuna.tsinghua.edu.cn/packages/c5/e4/7fcceef127badbb0d644d730d992410e4f3799b295c9964a172f92a469c7/altair-5.2.0-py3-none-any.whl (996 kB)\n",
      "Requirement already satisfied: fastapi in c:\\users\\14549\\anaconda3\\envs\\basic\\lib\\site-packages (from gradio) (0.110.0)\n",
      "Collecting ffmpy (from gradio)\n",
      "  Downloading https://pypi.tuna.tsinghua.edu.cn/packages/1d/70/07914754979f5dd80bda947a0ffd181c08bfcb137b01c3c0cef45254d271/ffmpy-0.3.2.tar.gz (5.5 kB)\n",
      "  Preparing metadata (setup.py): started\n",
      "  Preparing metadata (setup.py): finished with status 'done'\n",
      "Collecting gradio-client==0.12.0 (from gradio)\n",
      "  Downloading https://pypi.tuna.tsinghua.edu.cn/packages/cd/4d/5b430cc0fbb19b20368e9cd791700270c9551dab7234e6501b1587c414de/gradio_client-0.12.0-py3-none-any.whl (310 kB)\n",
      "     ---------------------------------------- 0.0/310.7 kB ? eta -:--:--\n",
      "     -------------------------------------- 310.7/310.7 kB 9.4 MB/s eta 0:00:00\n",
      "Requirement already satisfied: httpx>=0.24.1 in c:\\users\\14549\\anaconda3\\envs\\basic\\lib\\site-packages (from gradio) (0.27.0)\n",
      "Collecting huggingface-hub>=0.19.3 (from gradio)\n",
      "  Downloading https://pypi.tuna.tsinghua.edu.cn/packages/ab/28/d4b691840d73126d4c9845f8a22dad033ac872509b6d3a0d93b456eef424/huggingface_hub-0.21.4-py3-none-any.whl (346 kB)\n",
      "     ---------------------------------------- 0.0/346.4 kB ? eta -:--:--\n",
      "     ------------------------------------  337.9/346.4 kB 21.8 MB/s eta 0:00:01\n",
      "     -------------------------------------- 346.4/346.4 kB 7.2 MB/s eta 0:00:00\n",
      "Collecting importlib-resources<7.0,>=1.3 (from gradio)\n",
      "  Downloading https://pypi.tuna.tsinghua.edu.cn/packages/de/79/7ad3b2831247db4f61e781f9164147b1ee20205c5230dcd177021caa266b/importlib_resources-6.3.0-py3-none-any.whl (35 kB)\n",
      "Requirement already satisfied: jinja2<4.0 in c:\\users\\14549\\anaconda3\\envs\\basic\\lib\\site-packages (from gradio) (3.1.3)\n",
      "Requirement already satisfied: markupsafe~=2.0 in c:\\users\\14549\\anaconda3\\envs\\basic\\lib\\site-packages (from gradio) (2.1.5)\n",
      "Requirement already satisfied: matplotlib~=3.0 in c:\\users\\14549\\anaconda3\\envs\\basic\\lib\\site-packages (from gradio) (3.8.2)\n",
      "Requirement already satisfied: numpy~=1.0 in c:\\users\\14549\\anaconda3\\envs\\basic\\lib\\site-packages (from gradio) (1.26.4)\n",
      "Requirement already satisfied: orjson~=3.0 in c:\\users\\14549\\anaconda3\\envs\\basic\\lib\\site-packages (from gradio) (3.9.15)\n",
      "Requirement already satisfied: packaging in c:\\users\\14549\\anaconda3\\envs\\basic\\lib\\site-packages (from gradio) (23.2)\n",
      "Requirement already satisfied: pandas<3.0,>=1.0 in c:\\users\\14549\\anaconda3\\envs\\basic\\lib\\site-packages (from gradio) (2.2.0)\n",
      "Requirement already satisfied: pillow<11.0,>=8.0 in c:\\users\\14549\\anaconda3\\envs\\basic\\lib\\site-packages (from gradio) (10.2.0)\n",
      "Collecting pydantic>=2.0 (from gradio)\n",
      "  Downloading https://pypi.tuna.tsinghua.edu.cn/packages/e5/f3/8296f550276194a58c5500d55b19a27ae0a5a3a51ffef66710c58544b32d/pydantic-2.6.4-py3-none-any.whl (394 kB)\n",
      "     ---------------------------------------- 0.0/394.9 kB ? eta -:--:--\n",
      "     -------------------------------------- 394.9/394.9 kB 8.2 MB/s eta 0:00:00\n",
      "Collecting pydub (from gradio)\n",
      "  Downloading https://pypi.tuna.tsinghua.edu.cn/packages/a6/53/d78dc063216e62fc55f6b2eebb447f6a4b0a59f55c8406376f76bf959b08/pydub-0.25.1-py2.py3-none-any.whl (32 kB)\n",
      "Collecting python-multipart>=0.0.9 (from gradio)\n",
      "  Downloading https://pypi.tuna.tsinghua.edu.cn/packages/3d/47/444768600d9e0ebc82f8e347775d24aef8f6348cf00e9fa0e81910814e6d/python_multipart-0.0.9-py3-none-any.whl (22 kB)\n",
      "Requirement already satisfied: pyyaml<7.0,>=5.0 in c:\\users\\14549\\anaconda3\\envs\\basic\\lib\\site-packages (from gradio) (6.0.1)\n",
      "Collecting ruff>=0.2.2 (from gradio)\n",
      "  Downloading https://pypi.tuna.tsinghua.edu.cn/packages/50/89/2d4c24fd695587bc4846ebbaabe436ada307b8e157af4c3f790c34ffef25/ruff-0.3.2-py3-none-win_amd64.whl (7.6 MB)\n",
      "     ---------------------------------------- 0.0/7.6 MB ? eta -:--:--\n",
      "     --- ------------------------------------ 0.6/7.6 MB 12.2 MB/s eta 0:00:01\n",
      "     ----- ---------------------------------- 1.1/7.6 MB 11.7 MB/s eta 0:00:01\n",
      "     -------- ------------------------------- 1.6/7.6 MB 11.5 MB/s eta 0:00:01\n",
      "     ----------- ---------------------------- 2.1/7.6 MB 11.2 MB/s eta 0:00:01\n",
      "     -------------- ------------------------- 2.7/7.6 MB 11.4 MB/s eta 0:00:01\n",
      "     ---------------- ----------------------- 3.2/7.6 MB 11.3 MB/s eta 0:00:01\n",
      "     ----------------- ---------------------- 3.3/7.6 MB 11.2 MB/s eta 0:00:01\n",
      "     -------------------- ------------------- 4.0/7.6 MB 11.1 MB/s eta 0:00:01\n",
      "     -------------------- ------------------- 4.0/7.6 MB 11.1 MB/s eta 0:00:01\n",
      "     --------------------- ------------------ 4.0/7.6 MB 8.9 MB/s eta 0:00:01\n",
      "     ------------------------ --------------- 4.6/7.6 MB 9.1 MB/s eta 0:00:01\n",
      "     ------------------------- -------------- 5.0/7.6 MB 9.0 MB/s eta 0:00:01\n",
      "     --------------------------- ------------ 5.2/7.6 MB 8.6 MB/s eta 0:00:01\n",
      "     ----------------------------- ---------- 5.7/7.6 MB 8.7 MB/s eta 0:00:01\n",
      "     -------------------------------- ------- 6.2/7.6 MB 8.8 MB/s eta 0:00:01\n",
      "     ----------------------------------- ---- 6.8/7.6 MB 9.0 MB/s eta 0:00:01\n",
      "     -------------------------------------- - 7.3/7.6 MB 9.1 MB/s eta 0:00:01\n",
      "     ---------------------------------------  7.6/7.6 MB 9.2 MB/s eta 0:00:01\n",
      "     ---------------------------------------- 7.6/7.6 MB 8.7 MB/s eta 0:00:00\n",
      "Collecting semantic-version~=2.0 (from gradio)\n",
      "  Using cached https://pypi.tuna.tsinghua.edu.cn/packages/6a/23/8146aad7d88f4fcb3a6218f41a60f6c2d4e3a72de72da1825dc7c8f7877c/semantic_version-2.10.0-py2.py3-none-any.whl (15 kB)\n",
      "Collecting tomlkit==0.12.0 (from gradio)\n",
      "  Using cached https://pypi.tuna.tsinghua.edu.cn/packages/68/4f/12207897848a653d03ebbf6775a29d949408ded5f99b2d87198bc5c93508/tomlkit-0.12.0-py3-none-any.whl (37 kB)\n",
      "Collecting typer<1.0,>=0.9 (from typer[all]<1.0,>=0.9->gradio)\n",
      "  Using cached https://pypi.tuna.tsinghua.edu.cn/packages/bf/0e/c68adf10adda05f28a6ed7b9f4cd7b8e07f641b44af88ba72d9c89e4de7a/typer-0.9.0-py3-none-any.whl (45 kB)\n",
      "Requirement already satisfied: typing-extensions~=4.0 in c:\\users\\14549\\anaconda3\\envs\\basic\\lib\\site-packages (from gradio) (4.9.0)\n",
      "Requirement already satisfied: uvicorn>=0.14.0 in c:\\users\\14549\\anaconda3\\envs\\basic\\lib\\site-packages (from gradio) (0.27.1)\n",
      "Requirement already satisfied: fsspec in c:\\users\\14549\\anaconda3\\envs\\basic\\lib\\site-packages (from gradio-client==0.12.0->gradio) (2023.4.0)\n",
      "Collecting websockets<12.0,>=10.0 (from gradio-client==0.12.0->gradio)\n",
      "  Using cached https://pypi.tuna.tsinghua.edu.cn/packages/98/a7/0ed69892981351e5acf88fac0ff4c801fabca2c3bdef9fca4c7d3fde8c53/websockets-11.0.3-cp310-cp310-win_amd64.whl (124 kB)\n",
      "Requirement already satisfied: jsonschema>=3.0 in c:\\users\\14549\\anaconda3\\envs\\basic\\lib\\site-packages (from altair<6.0,>=4.2.0->gradio) (4.21.1)\n",
      "Collecting toolz (from altair<6.0,>=4.2.0->gradio)\n",
      "  Downloading https://pypi.tuna.tsinghua.edu.cn/packages/b7/8a/d82202c9f89eab30f9fc05380daae87d617e2ad11571ab23d7c13a29bb54/toolz-0.12.1-py3-none-any.whl (56 kB)\n",
      "     ---------------------------------------- 0.0/56.1 kB ? eta -:--:--\n",
      "     ---------------------------------------- 56.1/56.1 kB 2.9 MB/s eta 0:00:00\n",
      "Requirement already satisfied: anyio in c:\\users\\14549\\anaconda3\\envs\\basic\\lib\\site-packages (from httpx>=0.24.1->gradio) (4.2.0)\n",
      "Requirement already satisfied: certifi in c:\\users\\14549\\anaconda3\\envs\\basic\\lib\\site-packages (from httpx>=0.24.1->gradio) (2024.2.2)\n",
      "Requirement already satisfied: httpcore==1.* in c:\\users\\14549\\anaconda3\\envs\\basic\\lib\\site-packages (from httpx>=0.24.1->gradio) (1.0.4)\n",
      "Requirement already satisfied: idna in c:\\users\\14549\\anaconda3\\envs\\basic\\lib\\site-packages (from httpx>=0.24.1->gradio) (3.6)\n",
      "Requirement already satisfied: sniffio in c:\\users\\14549\\anaconda3\\envs\\basic\\lib\\site-packages (from httpx>=0.24.1->gradio) (1.3.0)\n",
      "Requirement already satisfied: h11<0.15,>=0.13 in c:\\users\\14549\\anaconda3\\envs\\basic\\lib\\site-packages (from httpcore==1.*->httpx>=0.24.1->gradio) (0.14.0)\n",
      "Requirement already satisfied: filelock in c:\\users\\14549\\anaconda3\\envs\\basic\\lib\\site-packages (from huggingface-hub>=0.19.3->gradio) (3.9.0)\n",
      "Collecting fsspec (from gradio-client==0.12.0->gradio)\n",
      "  Using cached https://pypi.tuna.tsinghua.edu.cn/packages/ad/30/2281c062222dc39328843bd1ddd30ff3005ef8e30b2fd09c4d2792766061/fsspec-2024.2.0-py3-none-any.whl (170 kB)\n",
      "Requirement already satisfied: requests in c:\\users\\14549\\anaconda3\\envs\\basic\\lib\\site-packages (from huggingface-hub>=0.19.3->gradio) (2.31.0)\n",
      "Requirement already satisfied: tqdm>=4.42.1 in c:\\users\\14549\\anaconda3\\envs\\basic\\lib\\site-packages (from huggingface-hub>=0.19.3->gradio) (4.66.2)\n",
      "Requirement already satisfied: contourpy>=1.0.1 in c:\\users\\14549\\anaconda3\\envs\\basic\\lib\\site-packages (from matplotlib~=3.0->gradio) (1.2.0)\n",
      "Requirement already satisfied: cycler>=0.10 in c:\\users\\14549\\anaconda3\\envs\\basic\\lib\\site-packages (from matplotlib~=3.0->gradio) (0.12.1)\n",
      "Requirement already satisfied: fonttools>=4.22.0 in c:\\users\\14549\\anaconda3\\envs\\basic\\lib\\site-packages (from matplotlib~=3.0->gradio) (4.48.1)\n",
      "Requirement already satisfied: kiwisolver>=1.3.1 in c:\\users\\14549\\anaconda3\\envs\\basic\\lib\\site-packages (from matplotlib~=3.0->gradio) (1.4.5)\n",
      "Requirement already satisfied: pyparsing>=2.3.1 in c:\\users\\14549\\anaconda3\\envs\\basic\\lib\\site-packages (from matplotlib~=3.0->gradio) (3.1.1)\n",
      "Requirement already satisfied: python-dateutil>=2.7 in c:\\users\\14549\\anaconda3\\envs\\basic\\lib\\site-packages (from matplotlib~=3.0->gradio) (2.8.2)\n",
      "Requirement already satisfied: pytz>=2020.1 in c:\\users\\14549\\anaconda3\\envs\\basic\\lib\\site-packages (from pandas<3.0,>=1.0->gradio) (2024.1)\n",
      "Requirement already satisfied: tzdata>=2022.7 in c:\\users\\14549\\anaconda3\\envs\\basic\\lib\\site-packages (from pandas<3.0,>=1.0->gradio) (2023.4)\n",
      "Requirement already satisfied: annotated-types>=0.4.0 in c:\\users\\14549\\anaconda3\\envs\\basic\\lib\\site-packages (from pydantic>=2.0->gradio) (0.6.0)\n",
      "Requirement already satisfied: pydantic-core==2.16.3 in c:\\users\\14549\\anaconda3\\envs\\basic\\lib\\site-packages (from pydantic>=2.0->gradio) (2.16.3)\n",
      "Requirement already satisfied: click<9.0.0,>=7.1.1 in c:\\users\\14549\\anaconda3\\envs\\basic\\lib\\site-packages (from typer<1.0,>=0.9->typer[all]<1.0,>=0.9->gradio) (8.1.7)\n",
      "Requirement already satisfied: colorama<0.5.0,>=0.4.3 in c:\\users\\14549\\anaconda3\\envs\\basic\\lib\\site-packages (from typer[all]<1.0,>=0.9->gradio) (0.4.6)\n",
      "Collecting shellingham<2.0.0,>=1.3.0 (from typer[all]<1.0,>=0.9->gradio)\n",
      "  Using cached https://pypi.tuna.tsinghua.edu.cn/packages/e0/f9/0595336914c5619e5f28a1fb793285925a8cd4b432c9da0a987836c7f822/shellingham-1.5.4-py2.py3-none-any.whl (9.8 kB)\n",
      "Collecting rich<14.0.0,>=10.11.0 (from typer[all]<1.0,>=0.9->gradio)\n",
      "  Downloading https://pypi.tuna.tsinghua.edu.cn/packages/87/67/a37f6214d0e9fe57f6ae54b2956d550ca8365857f42a1ce0392bb21d9410/rich-13.7.1-py3-none-any.whl (240 kB)\n",
      "     ---------------------------------------- 0.0/240.7 kB ? eta -:--:--\n",
      "     -------------------------------------- 240.7/240.7 kB 7.4 MB/s eta 0:00:00\n",
      "Requirement already satisfied: starlette<0.37.0,>=0.36.3 in c:\\users\\14549\\anaconda3\\envs\\basic\\lib\\site-packages (from fastapi->gradio) (0.36.3)\n",
      "Requirement already satisfied: attrs>=22.2.0 in c:\\users\\14549\\anaconda3\\envs\\basic\\lib\\site-packages (from jsonschema>=3.0->altair<6.0,>=4.2.0->gradio) (23.2.0)\n",
      "Requirement already satisfied: jsonschema-specifications>=2023.03.6 in c:\\users\\14549\\anaconda3\\envs\\basic\\lib\\site-packages (from jsonschema>=3.0->altair<6.0,>=4.2.0->gradio) (2023.12.1)\n",
      "Requirement already satisfied: referencing>=0.28.4 in c:\\users\\14549\\anaconda3\\envs\\basic\\lib\\site-packages (from jsonschema>=3.0->altair<6.0,>=4.2.0->gradio) (0.33.0)\n",
      "Requirement already satisfied: rpds-py>=0.7.1 in c:\\users\\14549\\anaconda3\\envs\\basic\\lib\\site-packages (from jsonschema>=3.0->altair<6.0,>=4.2.0->gradio) (0.17.1)\n",
      "Requirement already satisfied: six>=1.5 in c:\\users\\14549\\anaconda3\\envs\\basic\\lib\\site-packages (from python-dateutil>=2.7->matplotlib~=3.0->gradio) (1.16.0)\n",
      "Requirement already satisfied: markdown-it-py>=2.2.0 in c:\\users\\14549\\anaconda3\\envs\\basic\\lib\\site-packages (from rich<14.0.0,>=10.11.0->typer[all]<1.0,>=0.9->gradio) (3.0.0)\n",
      "Requirement already satisfied: pygments<3.0.0,>=2.13.0 in c:\\users\\14549\\anaconda3\\envs\\basic\\lib\\site-packages (from rich<14.0.0,>=10.11.0->typer[all]<1.0,>=0.9->gradio) (2.17.2)\n",
      "Requirement already satisfied: exceptiongroup>=1.0.2 in c:\\users\\14549\\anaconda3\\envs\\basic\\lib\\site-packages (from anyio->httpx>=0.24.1->gradio) (1.2.0)\n",
      "Requirement already satisfied: charset-normalizer<4,>=2 in c:\\users\\14549\\anaconda3\\envs\\basic\\lib\\site-packages (from requests->huggingface-hub>=0.19.3->gradio) (3.3.2)\n",
      "Requirement already satisfied: urllib3<3,>=1.21.1 in c:\\users\\14549\\anaconda3\\envs\\basic\\lib\\site-packages (from requests->huggingface-hub>=0.19.3->gradio) (2.2.0)\n",
      "Requirement already satisfied: mdurl~=0.1 in c:\\users\\14549\\anaconda3\\envs\\basic\\lib\\site-packages (from markdown-it-py>=2.2.0->rich<14.0.0,>=10.11.0->typer[all]<1.0,>=0.9->gradio) (0.1.2)\n",
      "Building wheels for collected packages: ffmpy\n",
      "  Building wheel for ffmpy (setup.py): started\n",
      "  Building wheel for ffmpy (setup.py): finished with status 'done'\n",
      "  Created wheel for ffmpy: filename=ffmpy-0.3.2-py3-none-any.whl size=5605 sha256=fd6ba57b6fc632788e2595b4306b16c6a96390997f85140837d2fbc122b2d3ee\n",
      "  Stored in directory: c:\\users\\14549\\appdata\\local\\pip\\cache\\wheels\\ab\\22\\26\\fe2be2a2a84ab0ed59fc0c532fe416f6b4ff1180afe1d4f8a9\n",
      "Successfully built ffmpy\n",
      "Installing collected packages: pydub, ffmpy, websockets, toolz, tomlkit, shellingham, semantic-version, ruff, python-multipart, importlib-resources, fsspec, aiofiles, typer, rich, pydantic, huggingface-hub, gradio-client, altair, gradio\n",
      "  Attempting uninstall: fsspec\n",
      "    Found existing installation: fsspec 2023.4.0\n",
      "    Uninstalling fsspec-2023.4.0:\n",
      "      Successfully uninstalled fsspec-2023.4.0\n",
      "  Attempting uninstall: pydantic\n",
      "    Found existing installation: pydantic 1.10.10\n",
      "    Uninstalling pydantic-1.10.10:\n",
      "      Successfully uninstalled pydantic-1.10.10\n",
      "Successfully installed aiofiles-23.2.1 altair-5.2.0 ffmpy-0.3.2 fsspec-2024.2.0 gradio-4.21.0 gradio-client-0.12.0 huggingface-hub-0.21.4 importlib-resources-6.3.0 pydantic-2.6.4 pydub-0.25.1 python-multipart-0.0.9 rich-13.7.1 ruff-0.3.2 semantic-version-2.10.0 shellingham-1.5.4 tomlkit-0.12.0 toolz-0.12.1 typer-0.9.0 websockets-11.0.3\n"
     ]
    },
    {
     "name": "stderr",
     "output_type": "stream",
     "text": [
      "  WARNING: Failed to remove contents in a temporary directory 'C:\\Users\\14549\\anaconda3\\envs\\basic\\Lib\\site-packages\\~ydantic'.\n",
      "  You can safely remove it manually.\n"
     ]
    }
   ],
   "source": [
    "!pip install gradio"
   ]
  },
  {
   "cell_type": "code",
   "execution_count": null,
   "id": "ef7b7a62b1262954",
   "metadata": {
    "collapsed": false,
    "jupyter": {
     "outputs_hidden": false
    }
   },
   "outputs": [],
   "source": [
    "!pip install git+https://github.com/openai/CLIP.git"
   ]
  },
  {
   "cell_type": "code",
   "execution_count": null,
   "id": "54b3beea700ea5e2",
   "metadata": {
    "collapsed": false,
    "jupyter": {
     "outputs_hidden": false
    }
   },
   "outputs": [],
   "source": [
    "!wget https://images.cocodataset.org/zips/val2017.zip"
   ]
  },
  {
   "cell_type": "code",
   "execution_count": null,
   "id": "87a94048326a5b8e",
   "metadata": {
    "collapsed": false,
    "jupyter": {
     "outputs_hidden": false
    }
   },
   "outputs": [],
   "source": [
    "!unzip val2017.zip"
   ]
  }
 ],
 "metadata": {
  "kernelspec": {
   "display_name": "Python 3 (ipykernel)",
   "language": "python",
   "name": "python3"
  },
  "language_info": {
   "codemirror_mode": {
    "name": "ipython",
    "version": 3
   },
   "file_extension": ".py",
   "mimetype": "text/x-python",
   "name": "python",
   "nbconvert_exporter": "python",
   "pygments_lexer": "ipython3",
   "version": "3.10.13"
  }
 },
 "nbformat": 4,
 "nbformat_minor": 5
}
