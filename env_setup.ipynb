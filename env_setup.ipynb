{
 "cells": [
  {
   "cell_type": "code",
   "execution_count": null,
   "id": "initial_id",
   "metadata": {
    "collapsed": true
   },
   "outputs": [],
   "source": [
    "!conda install --yes -c pytorch pytorch=1.7.1 torchvision cudatoolkit=11.0"
   ]
  },
  {
   "cell_type": "code",
   "outputs": [],
   "source": [
    "!pip install ftfy regex tqdm"
   ],
   "metadata": {
    "collapsed": false
   },
   "id": "6cc74e5350a5a046"
  },
  {
   "cell_type": "code",
   "outputs": [
    {
     "name": "stdout",
     "output_type": "stream",
     "text": [
      "Looking in indexes: https://pypi.tuna.tsinghua.edu.cn/simple\n",
      "Collecting pymilvus\n",
      "  Downloading https://pypi.tuna.tsinghua.edu.cn/packages/e9/9a/57532a34b91ed45c52d3551be9a98e4dc041b3758e006992dab004e6925a/pymilvus-2.3.7-py3-none-any.whl (179 kB)\n",
      "     ---------------------------------------- 0.0/179.8 kB ? eta -:--:--\n",
      "     -------------------------------------- 179.8/179.8 kB 3.6 MB/s eta 0:00:00\n",
      "Requirement already satisfied: setuptools>=67 in c:\\users\\14549\\anaconda3\\envs\\basic\\lib\\site-packages (from pymilvus) (68.2.2)\n",
      "Collecting grpcio<=1.60.0,>=1.49.1 (from pymilvus)\n",
      "  Using cached https://pypi.tuna.tsinghua.edu.cn/packages/9e/7f/adf4bc4c2d54e496eca16a856ddfdace57e7ace01ac9ffcd2abf888c47e6/grpcio-1.60.0-cp310-cp310-win_amd64.whl (3.7 MB)\n",
      "Requirement already satisfied: protobuf>=3.20.0 in c:\\users\\14549\\anaconda3\\envs\\basic\\lib\\site-packages (from pymilvus) (4.25.3)\n",
      "Collecting environs<=9.5.0 (from pymilvus)\n",
      "  Using cached https://pypi.tuna.tsinghua.edu.cn/packages/ca/5e/f0f217dc393372681bfe05c50f06a212e78d0a3fee907a74ab451ec1dcdb/environs-9.5.0-py2.py3-none-any.whl (12 kB)\n",
      "Collecting ujson>=2.0.0 (from pymilvus)\n",
      "  Using cached https://pypi.tuna.tsinghua.edu.cn/packages/b7/fe/34f18478d578831655b8d6428abb1a586bbc1244caafdd30b2776a4aff15/ujson-5.9.0-cp310-cp310-win_amd64.whl (41 kB)\n",
      "Requirement already satisfied: pandas>=1.2.4 in c:\\users\\14549\\anaconda3\\envs\\basic\\lib\\site-packages (from pymilvus) (2.2.0)\n",
      "Requirement already satisfied: requests in c:\\users\\14549\\anaconda3\\envs\\basic\\lib\\site-packages (from pymilvus) (2.31.0)\n",
      "Collecting minio>=7.0.0 (from pymilvus)\n",
      "  Using cached https://pypi.tuna.tsinghua.edu.cn/packages/45/a4/6f278051ad2bc03f3a0fdb4e182c9529009b0357631c2bb7c6ae70b4b0f6/minio-7.2.5-py3-none-any.whl (93 kB)\n",
      "Requirement already satisfied: pyarrow>=12.0.0 in c:\\users\\14549\\anaconda3\\envs\\basic\\lib\\site-packages (from pymilvus) (15.0.0)\n",
      "Collecting azure-storage-blob (from pymilvus)\n",
      "  Downloading https://pypi.tuna.tsinghua.edu.cn/packages/39/96/c0964ea207da669fb6c51a370aef647269c4a21608112a1057440dda8aea/azure_storage_blob-12.19.1-py3-none-any.whl (394 kB)\n",
      "     ---------------------------------------- 0.0/394.5 kB ? eta -:--:--\n",
      "     ------------------------------------- 394.5/394.5 kB 24.0 MB/s eta 0:00:00\n",
      "Requirement already satisfied: marshmallow>=3.0.0 in c:\\users\\14549\\anaconda3\\envs\\basic\\lib\\site-packages (from environs<=9.5.0->pymilvus) (3.20.2)\n",
      "Requirement already satisfied: python-dotenv in c:\\users\\14549\\anaconda3\\envs\\basic\\lib\\site-packages (from environs<=9.5.0->pymilvus) (1.0.1)\n",
      "Requirement already satisfied: certifi in c:\\users\\14549\\anaconda3\\envs\\basic\\lib\\site-packages (from minio>=7.0.0->pymilvus) (2024.2.2)\n",
      "Requirement already satisfied: urllib3 in c:\\users\\14549\\anaconda3\\envs\\basic\\lib\\site-packages (from minio>=7.0.0->pymilvus) (2.2.0)\n",
      "Requirement already satisfied: argon2-cffi in c:\\users\\14549\\anaconda3\\envs\\basic\\lib\\site-packages (from minio>=7.0.0->pymilvus) (23.1.0)\n",
      "Collecting pycryptodome (from minio>=7.0.0->pymilvus)\n",
      "  Using cached https://pypi.tuna.tsinghua.edu.cn/packages/1f/90/d131c0eb643290230dfa4108b7c2d135122d88b714ad241d77beb4782a76/pycryptodome-3.20.0-cp35-abi3-win_amd64.whl (1.8 MB)\n",
      "Requirement already satisfied: typing-extensions in c:\\users\\14549\\anaconda3\\envs\\basic\\lib\\site-packages (from minio>=7.0.0->pymilvus) (4.9.0)\n",
      "Requirement already satisfied: numpy<2,>=1.22.4 in c:\\users\\14549\\anaconda3\\envs\\basic\\lib\\site-packages (from pandas>=1.2.4->pymilvus) (1.26.4)\n",
      "Requirement already satisfied: python-dateutil>=2.8.2 in c:\\users\\14549\\anaconda3\\envs\\basic\\lib\\site-packages (from pandas>=1.2.4->pymilvus) (2.8.2)\n",
      "Requirement already satisfied: pytz>=2020.1 in c:\\users\\14549\\anaconda3\\envs\\basic\\lib\\site-packages (from pandas>=1.2.4->pymilvus) (2024.1)\n",
      "Requirement already satisfied: tzdata>=2022.7 in c:\\users\\14549\\anaconda3\\envs\\basic\\lib\\site-packages (from pandas>=1.2.4->pymilvus) (2023.4)\n",
      "Collecting azure-core<2.0.0,>=1.28.0 (from azure-storage-blob->pymilvus)\n",
      "  Downloading https://pypi.tuna.tsinghua.edu.cn/packages/d7/70/180df3b43ebc7a1ec957d9e5c2c76e6c54398ec61a67dff88d3e0131be80/azure_core-1.30.1-py3-none-any.whl (193 kB)\n",
      "     ---------------------------------------- 0.0/193.4 kB ? eta -:--:--\n",
      "     ------------------------------------- 193.4/193.4 kB 11.4 MB/s eta 0:00:00\n",
      "Collecting cryptography>=2.1.4 (from azure-storage-blob->pymilvus)\n",
      "  Downloading https://pypi.tuna.tsinghua.edu.cn/packages/e3/14/13acd84f2a8303d9410ba2e24534a9d90c2817583636a91c4f314224768d/cryptography-42.0.5-cp39-abi3-win_amd64.whl (2.9 MB)\n",
      "     ---------------------------------------- 0.0/2.9 MB ? eta -:--:--\n",
      "     --------- ------------------------------ 0.7/2.9 MB 15.0 MB/s eta 0:00:01\n",
      "     -------------------- ------------------- 1.5/2.9 MB 15.7 MB/s eta 0:00:01\n",
      "     -------------------------------- ------- 2.3/2.9 MB 16.5 MB/s eta 0:00:01\n",
      "     ---------------------------------------- 2.9/2.9 MB 15.3 MB/s eta 0:00:00\n",
      "Collecting isodate>=0.6.1 (from azure-storage-blob->pymilvus)\n",
      "  Using cached https://pypi.tuna.tsinghua.edu.cn/packages/b6/85/7882d311924cbcfc70b1890780763e36ff0b140c7e51c110fc59a532f087/isodate-0.6.1-py2.py3-none-any.whl (41 kB)\n",
      "Requirement already satisfied: charset-normalizer<4,>=2 in c:\\users\\14549\\anaconda3\\envs\\basic\\lib\\site-packages (from requests->pymilvus) (3.3.2)\n",
      "Requirement already satisfied: idna<4,>=2.5 in c:\\users\\14549\\anaconda3\\envs\\basic\\lib\\site-packages (from requests->pymilvus) (3.6)\n",
      "Requirement already satisfied: six>=1.11.0 in c:\\users\\14549\\anaconda3\\envs\\basic\\lib\\site-packages (from azure-core<2.0.0,>=1.28.0->azure-storage-blob->pymilvus) (1.16.0)\n",
      "Requirement already satisfied: cffi>=1.12 in c:\\users\\14549\\anaconda3\\envs\\basic\\lib\\site-packages (from cryptography>=2.1.4->azure-storage-blob->pymilvus) (1.16.0)\n",
      "Requirement already satisfied: packaging>=17.0 in c:\\users\\14549\\anaconda3\\envs\\basic\\lib\\site-packages (from marshmallow>=3.0.0->environs<=9.5.0->pymilvus) (23.2)\n",
      "Requirement already satisfied: argon2-cffi-bindings in c:\\users\\14549\\anaconda3\\envs\\basic\\lib\\site-packages (from argon2-cffi->minio>=7.0.0->pymilvus) (21.2.0)\n",
      "Requirement already satisfied: pycparser in c:\\users\\14549\\anaconda3\\envs\\basic\\lib\\site-packages (from cffi>=1.12->cryptography>=2.1.4->azure-storage-blob->pymilvus) (2.21)\n",
      "Installing collected packages: ujson, pycryptodome, isodate, grpcio, environs, cryptography, azure-core, azure-storage-blob, minio, pymilvus\n",
      "Successfully installed azure-core-1.30.1 azure-storage-blob-12.19.1 cryptography-42.0.5 environs-9.5.0 grpcio-1.60.0 isodate-0.6.1 minio-7.2.5 pycryptodome-3.20.0 pymilvus-2.3.7 ujson-5.9.0\n"
     ]
    }
   ],
   "source": [
    "!pip install pymilvus"
   ],
   "metadata": {
    "collapsed": false,
    "ExecuteTime": {
     "end_time": "2024-03-15T01:10:08.756440Z",
     "start_time": "2024-03-15T01:10:00.719807Z"
    }
   },
   "id": "50456a5157ab5427",
   "execution_count": 1
  },
  {
   "cell_type": "code",
   "outputs": [],
   "source": [
    "!pip install git+https://github.com/openai/CLIP.git"
   ],
   "metadata": {
    "collapsed": false
   },
   "id": "ef7b7a62b1262954"
  },
  {
   "cell_type": "code",
   "outputs": [],
   "source": [
    "!wget https://images.cocodataset.org/zips/val2017.zip"
   ],
   "metadata": {
    "collapsed": false
   },
   "id": "54b3beea700ea5e2"
  },
  {
   "cell_type": "code",
   "outputs": [],
   "source": [
    "!unzip val2017.zip"
   ],
   "metadata": {
    "collapsed": false
   },
   "id": "87a94048326a5b8e"
  }
 ],
 "metadata": {
  "kernelspec": {
   "display_name": "Python 3",
   "language": "python",
   "name": "python3"
  },
  "language_info": {
   "codemirror_mode": {
    "name": "ipython",
    "version": 2
   },
   "file_extension": ".py",
   "mimetype": "text/x-python",
   "name": "python",
   "nbconvert_exporter": "python",
   "pygments_lexer": "ipython2",
   "version": "2.7.6"
  }
 },
 "nbformat": 4,
 "nbformat_minor": 5
}
